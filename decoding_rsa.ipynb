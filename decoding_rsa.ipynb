{
 "cells": [
  {
   "cell_type": "code",
   "execution_count": 1,
   "metadata": {
    "colab": {
     "base_uri": "https://localhost:8080/",
     "height": 190
    },
    "colab_type": "code",
    "id": "VJfNKURItQzP",
    "outputId": "4bf7766a-6a77-4422-f11c-66a94e43ad76"
   },
   "outputs": [
    {
     "name": "stdout",
     "output_type": "stream",
     "text": [
      "Requirement already satisfied: mne in /anaconda3/envs/neur182/lib/python3.7/site-packages (0.17.2)\r\n"
     ]
    }
   ],
   "source": [
    "!pip install mne"
   ]
  },
  {
   "cell_type": "code",
   "execution_count": 61,
   "metadata": {
    "colab": {
     "base_uri": "https://localhost:8080/",
     "height": 34
    },
    "colab_type": "code",
    "id": "fnCVHSpItX33",
    "outputId": "6a807dd7-c1b1-4513-9202-3851a4e44256"
   },
   "outputs": [],
   "source": [
    "import numpy as np\n",
    "import os.path as op\n",
    "import matplotlib.pyplot as plt\n",
    "import requests\n",
    "import pandas as pd\n",
    "from pandas import read_csv\n",
    "from datetime import datetime, timedelta\n",
    "from pandas import read_json\n",
    "import traceback\n",
    "import math\n",
    "from math import fabs, log \n",
    "from sklearn.preprocessing import MinMaxScaler\n",
    "from sklearn.model_selection import StratifiedKFold\n",
    "from sklearn.preprocessing import StandardScaler\n",
    "from sklearn.linear_model import LogisticRegression\n",
    "from sklearn.metrics import roc_auc_score\n",
    "from sklearn.manifold import MDS\n",
    "from sklearn.metrics import mean_squared_error\n",
    "from sklearn.ensemble import VotingClassifier, RandomForestClassifier\n",
    "from sklearn.model_selection import GridSearchCV, RandomizedSearchCV\n",
    "from sklearn.decomposition import PCA\n",
    "import mne\n",
    "from mne.io import read_raw_fif, concatenate_raws\n",
    "from mne.datasets import visual_92_categories\n",
    "from sklearn.svm import SVC\n",
    "import pickle\n"
   ]
  },
  {
   "cell_type": "code",
   "execution_count": 19,
   "metadata": {
    "colab": {
     "base_uri": "https://localhost:8080/",
     "height": 224
    },
    "colab_type": "code",
    "id": "0X84mlHV1das",
    "outputId": "34e6ef2c-8441-43db-9b2e-f92bc7014986"
   },
   "outputs": [
    {
     "name": "stdout",
     "output_type": "stream",
     "text": [
      "Automatically created module for IPython interactive environment\n",
      "   trigger       condition  human  face  animal  natural\n",
      "0        0  human bodypart      1     0       1        1\n",
      "1        1  human bodypart      1     0       1        1\n",
      "2        2  human bodypart      1     0       1        1\n",
      "3        3  human bodypart      1     0       1        1\n",
      "4        4  human bodypart      1     0       1        1\n"
     ]
    }
   ],
   "source": [
    "print(__doc__)\n",
    "\n",
    "data_path = visual_92_categories.data_path()\n",
    "\n",
    "# Define stimulus - trigger mapping\n",
    "fname = op.join(data_path, 'visual_stimuli.csv')\n",
    "conds = read_csv(fname)\n",
    "#print(conds.head(5))\n",
    "\n",
    "max_trigger = 92\n",
    "conds = conds[:max_trigger] "
   ]
  },
  {
   "cell_type": "code",
   "execution_count": 20,
   "metadata": {
    "colab": {
     "base_uri": "https://localhost:8080/",
     "height": 54
    },
    "colab_type": "code",
    "id": "CVB2XzgftpUC",
    "outputId": "3d271155-bfb0-4340-c149-d03ff915ed5b"
   },
   "outputs": [
    {
     "name": "stdout",
     "output_type": "stream",
     "text": [
      "['0/human bodypart/human/not-face/animal/natural', '1/human bodypart/human/not-face/animal/natural', '2/human bodypart/human/not-face/animal/natural', '3/human bodypart/human/not-face/animal/natural', '4/human bodypart/human/not-face/animal/natural', '5/human bodypart/human/not-face/animal/natural', '6/human bodypart/human/not-face/animal/natural', '7/human bodypart/human/not-face/animal/natural', '8/human bodypart/human/not-face/animal/natural', '9/human bodypart/human/not-face/animal/natural']\n"
     ]
    }
   ],
   "source": [
    "conditions = []\n",
    "for c in conds.values:\n",
    "    cond_tags = list(c[:2])\n",
    "    cond_tags += [('not-' if i == 0 else '') + conds.columns[k]\n",
    "                  for k, i in enumerate(c[2:], 2)]\n",
    "    conditions.append('/'.join(map(str, cond_tags)))\n",
    "#print(conditions[:10])\n"
   ]
  },
  {
   "cell_type": "code",
   "execution_count": 21,
   "metadata": {
    "colab": {
     "base_uri": "https://localhost:8080/",
     "height": 34
    },
    "colab_type": "code",
    "id": "5t9qJeBVA-2q",
    "outputId": "3b04270a-0942-45a5-de6e-481c56e31577"
   },
   "outputs": [
    {
     "data": {
      "text/plain": [
       "1"
      ]
     },
     "execution_count": 21,
     "metadata": {},
     "output_type": "execute_result"
    }
   ],
   "source": [
    "event_id = dict(zip(conditions, conds.trigger + 1))\n",
    "#event_id['0/human bodypart/human/not-face/animal/natural']"
   ]
  },
  {
   "cell_type": "code",
   "execution_count": 22,
   "metadata": {
    "colab": {
     "base_uri": "https://localhost:8080/",
     "height": 136
    },
    "colab_type": "code",
    "id": "xtauwmqytrEv",
    "outputId": "c92189d0-ba09-4ba0-a2fc-46604a686dc3"
   },
   "outputs": [
    {
     "name": "stdout",
     "output_type": "stream",
     "text": [
      "4142 events found\n",
      "Event IDs: [  1   2   3   4   5   6   7   8   9  10  11  12  13  14  15  16  17  18\n",
      "  19  20  21  22  23  24  25  26  27  28  29  30  31  32  33  34  35  36\n",
      "  37  38  39  40  41  42  43  44  45  46  47  48  49  50  51  52  53  54\n",
      "  55  56  57  58  59  60  61  62  63  64  65  66  67  68  69  70  71  72\n",
      "  73  74  75  76  77  78  79  80  81  82  83  84  85  86  87  88  89  90\n",
      "  91  92  93 200 222 244]\n"
     ]
    }
   ],
   "source": [
    "n_runs = 4  # 4 for full data (use less to speed up computations)\n",
    "fname = op.join(data_path, 'sample_subject_%i_tsss_mc.fif')\n",
    "raws = [read_raw_fif(fname % block, verbose='error')\n",
    "        for block in range(n_runs)]  # ignore filename warnings\n",
    "raw = concatenate_raws(raws)\n",
    "\n",
    "events = mne.find_events(raw, min_duration=.002)\n",
    "\n",
    "events = events[events[:, 2] <= max_trigger]"
   ]
  },
  {
   "cell_type": "code",
   "execution_count": 29,
   "metadata": {
    "colab": {
     "base_uri": "https://localhost:8080/",
     "height": 119
    },
    "colab_type": "code",
    "id": "gUrDZyDPtsZV",
    "outputId": "f51e41f2-66a2-49a9-d166-173b5169b2f2"
   },
   "outputs": [
    {
     "name": "stdout",
     "output_type": "stream",
     "text": [
      "2760 matching events found\n",
      "No baseline correction applied\n",
      "Not setting metadata\n",
      "0 projection items activated\n",
      "Loading data for 2760 events and 601 original time points ...\n",
      "2 bad epochs dropped\n"
     ]
    }
   ],
   "source": [
    "picks = mne.pick_types(raw.info, meg=True)\n",
    "epochs = mne.Epochs(raw, events=events, event_id=event_id, baseline=None,\n",
    "                    picks=picks, tmin=-.1, tmax=.500, preload=True)"
   ]
  },
  {
   "cell_type": "code",
   "execution_count": 24,
   "metadata": {
    "colab": {},
    "colab_type": "code",
    "id": "KqcTyXQztubg"
   },
   "outputs": [],
   "source": [
    "# epochs['face'].average().plot()\n",
    "# epochs['not-face'].average().plot()"
   ]
  },
  {
   "cell_type": "code",
   "execution_count": 65,
   "metadata": {
    "colab": {},
    "colab_type": "code",
    "id": "aHgdMhRlv44F"
   },
   "outputs": [],
   "source": [
    "X = epochs.copy().crop(0.095, 0.15).get_data()\n",
    "y = epochs.events[:, 2]\n",
    "classes = set(y)"
   ]
  },
  {
   "cell_type": "code",
   "execution_count": 72,
   "metadata": {},
   "outputs": [],
   "source": [
    "classes = set(y)"
   ]
  },
  {
   "cell_type": "code",
   "execution_count": 67,
   "metadata": {},
   "outputs": [
    {
     "data": {
      "text/plain": [
       "(826,)"
      ]
     },
     "execution_count": 67,
     "metadata": {},
     "output_type": "execute_result"
    }
   ],
   "source": [
    "y_test.shape"
   ]
  },
  {
   "cell_type": "code",
   "execution_count": 68,
   "metadata": {},
   "outputs": [],
   "source": [
    "scalers = {}\n",
    "nFeatures = 1000\n",
    "testSize = -826\n",
    "np.random.seed(0)\n",
    "indices = np.arange(X.shape[0])\n",
    "np.random.shuffle(indices)\n",
    "\n",
    "X = X[indices]\n",
    "y = y[indices]\n",
    "X_train = X[:testSize]\n",
    "X_test = X[testSize:]\n",
    "y_train = y[:testSize]\n",
    "y_test = y[testSize:]\n",
    "for i in range(X.shape[1]):\n",
    "    scalers[i] = StandardScaler()\n",
    "    X_train[:, i, :] = scalers[i].fit_transform(X_train[:, i, :]) \n",
    "X_train = X_train.reshape(X_train.shape[0],X_train.shape[1]*X_train.shape[2] )\n",
    "\n",
    "pca = PCA(nFeatures)\n",
    "X_train = pca.fit_transform(X_train)\n",
    "\n",
    "for i in range(X.shape[1]):\n",
    "    X_test[:, i, :] = scalers[i].transform(X_test[:, i, :]) \n",
    "X_test = X_test.reshape(X_test.shape[0],X_test.shape[1]*X_test.shape[2] )\n",
    "X_test = pca.transform(X_test)\n",
    "pickle.dump(pca, open(\"pca_%s\"%nFeatures, \"wb\"))"
   ]
  },
  {
   "cell_type": "code",
   "execution_count": 0,
   "metadata": {
    "colab": {},
    "colab_type": "code",
    "id": "qnn_m4-ptv35"
   },
   "outputs": [],
   "source": [
    "# Classify using the average signal in the window 50ms to 300ms\n",
    "# to focus the classifier on the time interval with best SNR.\n",
    "\n",
    "from sklearn.model_selection import GridSearchCV\n",
    "\n",
    "scaler = StandardScaler()\n",
    "scaler = scaler.fit(X)\n",
    "X = scaler.transform(X)\n",
    "clf = GridSearchCV(SVC(probability=True, gamma=\"auto\"),\n",
    "                       param_grid={'kernel':['linear', 'rbf', 'poly'], 'C':[1, 10],\n",
    "                                   'probability': [True], 'degree': [5, 50, 500]},\n",
    "                       cv=10,\n",
    "                       n_jobs = -1,\n",
    "                       refit=True)\n",
    "\n",
    "clf.fit(X_train, y_train)\n",
    "y_pred = clf.predict_proba(X_test)"
   ]
  },
  {
   "cell_type": "code",
   "execution_count": 0,
   "metadata": {
    "colab": {},
    "colab_type": "code",
    "id": "03qX7JodNM08"
   },
   "outputs": [],
   "source": [
    "# Save Model\n",
    "path = \"\" #\"gdrive/Team Drives/DataForMNE/Saved Models/\"\n",
    "name = \"clf_save_test\"\n",
    "filename = path + name\n",
    "pickle.dump(clf, open(name, \"wb\"))"
   ]
  },
  {
   "cell_type": "code",
   "execution_count": 0,
   "metadata": {
    "colab": {},
    "colab_type": "code",
    "id": "c8j6xTrwOYSV"
   },
   "outputs": [],
   "source": [
    "# Load Model\n",
    "loaded_model = pickle.load(open(name, \"rb\"))\n",
    "y_predTest = loaded_model.predict_proba(X_test)"
   ]
  },
  {
   "cell_type": "code",
   "execution_count": 0,
   "metadata": {
    "colab": {},
    "colab_type": "code",
    "id": "0JqEPJi0Swfg"
   },
   "outputs": [],
   "source": [
    "np.array_equal(y_pred, y_predTest)"
   ]
  },
  {
   "cell_type": "code",
   "execution_count": 74,
   "metadata": {
    "colab": {},
    "colab_type": "code",
    "id": "mdPShcEBtwfg"
   },
   "outputs": [],
   "source": [
    "confusion = np.zeros((len(classes), len(classes)))\n",
    "for ii, train_class in enumerate(classes):\n",
    "    for jj in range(ii, len(classes)):\n",
    "        confusion[ii, jj] = roc_auc_score(y_test == train_class, y_pred[:, jj])\n",
    "        confusion[jj, ii] = confusion[ii, jj]"
   ]
  },
  {
   "cell_type": "code",
   "execution_count": 75,
   "metadata": {
    "colab": {},
    "colab_type": "code",
    "id": "ebvlSkIDtxuR"
   },
   "outputs": [
    {
     "data": {
      "image/png": "[encoded data removed]",
      "text/plain": [
       "<Figure size 432x288 with 2 Axes>"
      ]
     },
     "metadata": {
      "needs_background": "light"
     },
     "output_type": "display_data"
    }
   ],
   "source": [
    "labels = ['']*5+['human bodypart']+['']*12+['human face']+['']*12+['nonhuman bodypart']+['']*12+['nonhuman face']+['']*17+['natural inanimate']+['']*16+['artificial inanimate']+['']*6\n",
    "\n",
    "fig, ax = plt.subplots(1)\n",
    "im = ax.matshow(confusion, cmap='RdBu_r', clim=[0.3, 0.7])\n",
    "ax.set_yticks(range(len(classes)))\n",
    "ax.set_yticklabels(labels)\n",
    "ax.set_xticks(range(len(classes)))\n",
    "ax.set_xticklabels(labels, rotation=40, ha='left')\n",
    "ax.axhline(12, color='k') ## human bodypart\n",
    "ax.axhline(24, color='k') ## human face\n",
    "ax.axhline(36, color='k') ## nonhuman bodypart\n",
    "ax.axhline(48, color='k') ## nonhuman face\n",
    "ax.axhline(70, color='k') ## natural inanimate\n",
    "ax.axvline(12, color='k') ## human bodypart\n",
    "ax.axvline(24, color='k') ## human face\n",
    "ax.axvline(36, color='k') ## nonhuman bodypart\n",
    "ax.axvline(48, color='k') ## nonhuman face\n",
    "ax.axvline(70, color='k') ## natural inanimate\n",
    "plt.colorbar(im)\n",
    "plt.tight_layout()\n",
    "plt.show()"
   ]
  },
  {
   "cell_type": "code",
   "execution_count": 76,
   "metadata": {
    "colab": {
     "base_uri": "https://localhost:8080/",
     "height": 297
    },
    "colab_type": "code",
    "id": "miWf062HtzSZ",
    "outputId": "8184cd12-4dab-4e10-ef36-94e8aff1e27a"
   },
   "outputs": [
    {
     "data": {
      "image/png": "[encoded data removed]",
      "text/plain": [
       "<Figure size 432x288 with 1 Axes>"
      ]
     },
     "metadata": {
      "needs_background": "light"
     },
     "output_type": "display_data"
    }
   ],
   "source": [
    "fig, ax = plt.subplots(1)\n",
    "mds = MDS(2, random_state=0, dissimilarity='precomputed')\n",
    "chance = 0.5\n",
    "summary = mds.fit_transform(chance - confusion)\n",
    "cmap = plt.get_cmap('rainbow')\n",
    "colors = ['r', 'b']\n",
    "names = list(conds['condition'].values)\n",
    "for color, name in zip(colors, set(names)):\n",
    "    sel = np.where([this_name == name for this_name in names])[0]\n",
    "    size = 500 if name == 'human face' else 100\n",
    "    ax.scatter(summary[sel, 0], summary[sel, 1], s=size,\n",
    "               facecolors=color, label=name, edgecolors='k')\n",
    "ax.axis('off')\n",
    "ax.legend(loc='lower right', scatterpoints=1, ncol=2)\n",
    "plt.tight_layout()\n",
    "plt.show()"
   ]
  },
  {
   "cell_type": "code",
   "execution_count": 41,
   "metadata": {},
   "outputs": [
    {
     "data": {
      "text/plain": [
       "(1932,)"
      ]
     },
     "execution_count": 41,
     "metadata": {},
     "output_type": "execute_result"
    }
   ],
   "source": [
    "y_train.shape"
   ]
  },
  {
   "cell_type": "code",
   "execution_count": 42,
   "metadata": {},
   "outputs": [
    {
     "data": {
      "text/plain": [
       "(1932, 306, 56)"
      ]
     },
     "execution_count": 42,
     "metadata": {},
     "output_type": "execute_result"
    }
   ],
   "source": [
    "X_train.shape"
   ]
  },
  {
   "cell_type": "code",
   "execution_count": 70,
   "metadata": {
    "colab": {},
    "colab_type": "code",
    "id": "WGNILbgNXDg4",
    "scrolled": true
   },
   "outputs": [
    {
     "name": "stdout",
     "output_type": "stream",
     "text": [
      "Fitting 3 folds for each of 30 candidates, totalling 90 fits\n"
     ]
    },
    {
     "name": "stderr",
     "output_type": "stream",
     "text": [
      "[Parallel(n_jobs=-1)]: Using backend LokyBackend with 8 concurrent workers.\n",
      "[Parallel(n_jobs=-1)]: Done  25 tasks      | elapsed:  5.8min\n",
      "[Parallel(n_jobs=-1)]: Done  90 out of  90 | elapsed: 18.3min finished\n",
      "/anaconda3/envs/neur182/lib/python3.7/site-packages/sklearn/model_selection/_search.py:841: DeprecationWarning: The default of the `iid` parameter will change from True to False in version 0.22 and will be removed in 0.24. This will change numeric results when test-set sizes are unequal.\n",
      "  DeprecationWarning)\n"
     ]
    }
   ],
   "source": [
    "#esemble Methods \n",
    "#esemble Methods \n",
    "\n",
    "clf1 = SVC(probability=True, kernel=\"linear\", gamma=\"auto\")\n",
    "clf2 = SVC(probability=True, kernel=\"rbf\", gamma=\"auto\")\n",
    "clf3 = SVC(probability=True, kernel=\"poly\", gamma=\"auto\")\n",
    "\n",
    "clf4 = VotingClassifier(estimators=[('linear', clf1), ('rbf', clf2), ('poly', clf3)], voting='soft', weights=[1, 2, 1])\n",
    "                       \n",
    "params = {'linear__C': [1,10], 'rbf__C': [1,10], 'poly__C': [1,10],'linear__degree': [5, 50, 500],'rbf__degree': [5, 50, 500],'poly__degree': [5, 50, 500] }\n",
    "        \n",
    "grid = RandomizedSearchCV(estimator=clf4,\n",
    "                    cv=3,\n",
    "                    param_distributions=params,\n",
    "                    n_jobs = -1,\n",
    "                    refit=True,\n",
    "                    n_iter = 30, \n",
    "                    random_state=10,\n",
    "                    verbose=2)\n",
    "grid.fit(X_train, y_train)\n",
    "y_pred = grid.predict_proba(X_test)\n",
    "name = \"3svc_together_%s\"%nFeatures\n",
    "#filename = path + name\n",
    "pickle.dump(grid, open(name, \"wb\"))"
   ]
  },
  {
   "cell_type": "code",
   "execution_count": null,
   "metadata": {},
   "outputs": [
    {
     "name": "stdout",
     "output_type": "stream",
     "text": [
      "Fitting 3 folds for each of 100 candidates, totalling 300 fits\n"
     ]
    },
    {
     "name": "stderr",
     "output_type": "stream",
     "text": [
      "[Parallel(n_jobs=-1)]: Using backend LokyBackend with 8 concurrent workers.\n",
      "[Parallel(n_jobs=-1)]: Done  16 tasks      | elapsed: 33.0min\n",
      "/anaconda3/envs/neur182/lib/python3.7/site-packages/sklearn/externals/joblib/externals/loky/process_executor.py:706: UserWarning: A worker stopped while some jobs were given to the executor. This can be caused by a too short worker timeout or by a memory leak.\n",
      "  \"timeout or by a memory leak.\", UserWarning\n",
      "[Parallel(n_jobs=-1)]: Done 112 tasks      | elapsed: 220.0min\n"
     ]
    }
   ],
   "source": [
    "n_estimators = [int(x) for x in np.linspace(start = 200, stop = 2000, num = 10)]\n",
    "# Number of features to consider at every split\n",
    "max_features = ['auto', 'sqrt']\n",
    "# Maximum number of levels in tree\n",
    "max_depth = [int(x) for x in np.linspace(10, 110, num = 11)]\n",
    "max_depth.append(None)\n",
    "# Minimum number of samples required to split a node\n",
    "min_samples_split = [2, 5, 10]\n",
    "# Minimum number of samples required at each leaf node\n",
    "min_samples_leaf = [1, 2, 4]\n",
    "# Method of selecting samples for training each tree\n",
    "bootstrap = [True, False]\n",
    "# Create the random grid\n",
    "random_grid = {'gini__n_estimators': n_estimators,\n",
    "               'gini__max_features': max_features,\n",
    "               'gini__max_depth': max_depth,\n",
    "               'gini__min_samples_split': min_samples_split,\n",
    "               'gini__min_samples_leaf': min_samples_leaf,\n",
    "               'gini__bootstrap': bootstrap,\n",
    "               'entropy__n_estimators': n_estimators,\n",
    "               'entropy__max_features': max_features,\n",
    "               'entropy__max_depth': max_depth,\n",
    "               'entropy__min_samples_split': min_samples_split,\n",
    "               'entropy__min_samples_leaf': min_samples_leaf,\n",
    "               'entropy__bootstrap': bootstrap,\n",
    "              }\n",
    "\n",
    "\n",
    "RFC1 = RandomForestClassifier(criterion = 'gini')\n",
    "RFC2 = RandomForestClassifier(criterion = 'entropy')\n",
    "RFC = VotingClassifier(estimators=[('gini', RFC1), ('entropy', RFC2)], voting='soft', weights=[1, 1])\n",
    "RFC_RandomSearch = RandomizedSearchCV(estimator = RFC,\n",
    "                                      param_distributions = random_grid,\n",
    "                                      n_iter = 100, cv = 3, verbose=3,\n",
    "                                      random_state=10, n_jobs = -1)\n",
    "\n",
    "RFC_RandomSearch.fit(X_train, y_train)\n",
    "\n",
    "y_pred = RFC_RandomSearch.predict_proba(X_test)\n",
    "name = \"2trees_together_%s\"%nFeatures\n",
    "#filename = path + name\n",
    "pickle.dump(RFC_RandomSearch, open(name, \"wb\"))\n",
    "\n"
   ]
  },
  {
   "cell_type": "code",
   "execution_count": null,
   "metadata": {},
   "outputs": [],
   "source": [
    "n_estimators = [int(x) for x in numpy.linspace(start = 200, stop = 2000, num = 10)]\n",
    "# Number of features to consider at every split\n",
    "max_features = ['auto', 'sqrt']\n",
    "# Maximum number of levels in tree\n",
    "max_depth = [int(x) for x in numpy.linspace(10, 110, num = 11)]\n",
    "max_depth.append(None)\n",
    "# Minimum number of samples required to split a node\n",
    "min_samples_split = [2, 5, 10]\n",
    "# Minimum number of samples required at each leaf node\n",
    "min_samples_leaf = [1, 2, 4]\n",
    "# Method of selecting samples for training each tree\n",
    "bootstrap = [True, False]\n",
    "# Create the random grid\n",
    "random_grid = {'gini__n_estimators': n_estimators,\n",
    "               'gini__max_features': max_features,\n",
    "               'gini__max_depth': max_depth,\n",
    "               'gini__min_samples_split': min_samples_split,\n",
    "               'gini__min_samples_leaf': min_samples_leaf,\n",
    "               'gini__bootstrap': bootstrap,\n",
    "               'entropy__n_estimators': n_estimators,\n",
    "               'entropy__max_features': max_features,\n",
    "               'entropy__max_depth': max_depth,\n",
    "               'entropy__min_samples_split': min_samples_split,\n",
    "               'entropy__min_samples_leaf': min_samples_leaf,\n",
    "               'entropy__bootstrap': bootstrap,\n",
    "               'linear__C': [1,10], \n",
    "               'rbf__C': [1,10], \n",
    "               'poly__C': [1,10],\n",
    "               'linear__degree': [5, 50, 500],\n",
    "               'rbf__degree': [5, 50, 500],\n",
    "               'poly__degree': [5, 50, 500] \n",
    "              }\n",
    "\n",
    "\n",
    "RFC1 = RandomForestClassifier(criterion = 'gini')\n",
    "RFC2 = RandomForestClassifier(criterion = 'entropy')\n",
    "clf1 = SVC(probability=True, kernel=\"linear\", gamma=\"auto\")\n",
    "clf2 = SVC(probability=True, kernel=\"rbf\", gamma=\"auto\")\n",
    "clf3 = SVC(probability=True, kernel=\"poly\", gamma=\"auto\")\n",
    "vote = VotingClassifier(estimators=[('linear', clf1), ('rbf', clf2), ('poly', clf3), ('gini', RFC1), ('entropy', RFC2)], voting='soft', weights=[1, 2, 1, 1, 1])\n",
    "\n",
    "RandomSearch = RandomizedSearchCV(estimator = vote,\n",
    "                                      param_distributions = random_grid,\n",
    "                                      n_iter = 100, cv = 3, verbose=3,\n",
    "                                      random_state=10, n_jobs = -1)\n",
    "\n",
    "RandomSearch.fit(X_train, y_train)\n",
    "\n",
    "y_pred = RandomSearch.predict_proba(X_test)\n",
    "name = \"5models_%s\"%nFeatures\n",
    "#filename = path + name\n",
    "pickle.dump(RandomSearch, open(name, \"wb\"))\n"
   ]
  },
  {
   "cell_type": "code",
   "execution_count": null,
   "metadata": {},
   "outputs": [],
   "source": [
    "!git add *\n",
    "!git commit -m \"adding models with 1000 features\"\n",
    "!git push"
   ]
  },
  {
   "cell_type": "code",
   "execution_count": 0,
   "metadata": {
    "colab": {},
    "colab_type": "code",
    "id": "tch4yjFbaQVB"
   },
   "outputs": [],
   "source": [
    "# Code for one hot encoding if needed\n",
    "numCats = 92\n",
    "numTrials = X.shape[0]\n",
    "\n",
    "oneHotY = np.zeros((numTrials, numCats))\n",
    "for i in range(numTrials):\n",
    "    oneHotY[i][y[i]-1] = 1\n"
   ]
  }
 ],
 "metadata": {
  "colab": {
   "collapsed_sections": [],
   "name": "Neuro Code.ipynb",
   "provenance": [],
   "version": "0.3.2"
  },
  "kernelspec": {
   "display_name": ".venv",
   "language": "python",
   "name": ".venv"
  },
  "language_info": {
   "codemirror_mode": {
    "name": "ipython",
    "version": 3
   },
   "file_extension": ".py",
   "mimetype": "text/x-python",
   "name": "python",
   "nbconvert_exporter": "python",
   "pygments_lexer": "ipython3",
   "version": "3.7.2"
  }
 },
 "nbformat": 4,
 "nbformat_minor": 1
}
